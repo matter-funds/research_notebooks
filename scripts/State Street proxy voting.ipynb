{
 "cells": [
  {
   "cell_type": "markdown",
   "metadata": {},
   "source": [
    "# State Street 500 proxy voting patterns"
   ]
  },
  {
   "cell_type": "markdown",
   "metadata": {},
   "source": [
    "<footer id=\"attribution\" style=\"float:right; color:#999; background:#fff;\">\n",
    "Want to have your voice as a shareholder heard? Join us at <a href=\"https://matter-funds.com\">Matter</a>.\n",
    "</footer>\n"
   ]
  },
  {
   "cell_type": "markdown",
   "metadata": {},
   "source": [
    "## Proxy voting\n",
    "\n",
    "A large percentage of the equities market is managed passively (up to 40% according to a [report by Bank of America](https://www.reuters.com/article/us-stocks-etf-research-idUSKBN19Q18B)). As we've discussed in other places at Matter (/TODO: links), this raises concerns about the effectiveness of corporate governance in the modern world.\n",
    "\n",
    "Passive index funds are incentivised to:\n",
    "1. track the performance of their benchmark (e.g. S&P 500)\n",
    "1. do it as cheaply as possible.\n",
    "\n",
    "Those two incentives means there is little reason for passive funds to engage and disagree with management on any issue: engagement requires costly reseach, time and effort and it doesn't make the index fund track the benchmark any more closely.\n",
    "\n",
    "Arguably, it is easier for passive index funds to follow management or third-party voting recommendations, with the result being a world where the balance of power is tipped excessively towards corporate managers.\n",
    "\n",
    "To gain a better understanding of the phenomenon, we look at historical voting data from top passive index providers.\n",
    "\n",
    "For the impacient reader, we see the following stylised facts:\n",
    "<a id=\"section_0\"></a>\n",
    "1. A large percentage of management proposals are concerned with corporate compensation. By contrast, top issues for shareholders are board independence and transparency around corporate lobbying and political contributions. ([details](#section_top_issues))\n",
    "1. Management largely recommends voting `Against` shareholder proposals and `For` management proposals ([details](#section_2))\n",
    "1. Only around 6% of the voting proposals are sponsored by shareholders - that number has been increasing in recent years. ([details](#section_1))\n",
    "1. State Street follows management recommendations an overwhelmingly large number of times - around 93% of the time. ([details](#section_3)) That number is even higher in recent times, mostly due to State Street increasingly siding with management on votes proposed by shareholders. ([details](#section_4))\n",
    "1. State Street has been increasingly disagreeing with management voting recommendations when it comes to votes on corporate compensation. ([details](#section_5))"
   ]
  },
  {
   "cell_type": "markdown",
   "metadata": {},
   "source": [
    "## The data\n",
    "\n",
    "In the US, mutual funds are legally required to:\n",
    "1. cast all their proxy votes\n",
    "2. disclose their voting via a [form N-PX](https://www.sec.gov/edgar/searchedgar/n-px.htm).\n",
    "\n",
    "An example of what the [raw N-PX data](https://www.sec.gov/Archives/edgar/data/1094885/000119312518263427/0001193125-18-263427.txt) looks like:\n",
    "```\n",
    "APPLE INC.\n",
    "\n",
    "Ticker:       AAPL           Security ID:  037833100\n",
    "Meeting Date: FEB 13, 2018   Meeting Type: Annual\n",
    "Record Date:  DEC 15, 2017\n",
    "\n",
    "#   Proposal                             Mgt Rec Vote Cast Sponsor\n",
    "1a  Elect Director James Bell            For     For       Management\n",
    "1b  Elect Director Tim Cook              For     For       Management\n",
    "1c  Elect Director Al Gore               For     For       Management\n",
    "1d  Elect Director Bob Iger              For     For       Management\n",
    "1e  Elect Director Andrea Jung           For     For       Management\n",
    "1f  Elect Director Art Levinson          For     For       Management\n",
    "1g  Elect Director Ron Sugar             For     For       Management\n",
    "1h  Elect Director Sue Wagner            For     For       Management\n",
    "2   Ratify Ernst & Young LLP as Auditors For     For       Management\n",
    "3   Advisory Vote to Ratify Named        For     For       Management\n",
    "    Executive Officers' Compensation\n",
    "4   Amend Non-Employee Director Omnibus  For     For       Management\n",
    "    Stock Plan\n",
    "5   Proxy Access Amendments              Against Against   Shareholder\n",
    "6   Establish Human Rights Committee     Against Against   Shareholder\n",
    "```\n",
    "\n",
    "The above shows how [State Street Equity 500](https://money.usnews.com/funds/mutual-funds/large-blend/state-street-equity-500-index-fund/stfax) - a large S&P 500 tracking fund - voted in the Apple Annual General Meeting.\n",
    "The data is quite rich - we can see:\n",
    "1. The name of each proposal\n",
    "1. How management recommends their shareholders vote\n",
    "1. How State Street voted\n",
    "1. Who is sponsoring the proposal."
   ]
  },
  {
   "cell_type": "markdown",
   "metadata": {},
   "source": [
    "### Parsed data\n",
    "As part of our research work at Matter, we collect, clean and parse mutual fund voting data. You can see the codebase used to generate the State Street data [here](https://github.com/matter-funds/npx_forms).\n",
    "\n",
    "Let's look at the parsed data for State Street Equity 500.\n",
    "<form action=\"javascript:code_toggle()\"><input type=\"submit\" id=\"toggleButton\" value=\"Show all code\"></form>"
   ]
  },
  {
   "cell_type": "code",
   "execution_count": 36,
   "metadata": {
    "scrolled": true
   },
   "outputs": [],
   "source": [
    "from pathlib import Path\n",
    "import pandas as pd\n",
    "npx_parsed_path = Path(\"/home/bogdan/projects/proxymonitor/data/npx_forms_parsed\")\n",
    "npx_files = list(npx_parsed_path.glob(\"*.csv\"))\n",
    "ps = [pd.read_csv(f) for f in npx_files]\n",
    "for df,file in zip(ps, npx_files):\n",
    "    token = str(file).split('-')[1]\n",
    "    df['VoteId'] = df['VoteId'].astype(str) + '_' + token\n",
    "ps = pd.concat(ps, ignore_index=True)"
   ]
  },
  {
   "cell_type": "code",
   "execution_count": 37,
   "metadata": {},
   "outputs": [],
   "source": [
    "ps['MeetDate'] = pd.to_datetime(ps['MeetDate'])\n",
    "ps['RecDate'] = pd.to_datetime(ps['RecDate'])"
   ]
  },
  {
   "cell_type": "code",
   "execution_count": 38,
   "metadata": {},
   "outputs": [],
   "source": [
    "#Drop badly parsed rows:\n",
    "ps = ps[~ps[\"NumType\"].isnull()]\n",
    "ps = ps[~ps[\"Num\"].isnull()]\n",
    "\n",
    "adj_term = ps['MeetDate'].min() - pd.to_datetime('2014.01.01')\n",
    "ps['ReportYear'] = (ps['MeetDate'] - adj_term).dt.year + 1"
   ]
  },
  {
   "cell_type": "code",
   "execution_count": 39,
   "metadata": {},
   "outputs": [
    {
     "data": {
      "text/html": [
       "<table border=\"1\" class=\"dataframe\">\n",
       "  <thead>\n",
       "    <tr style=\"text-align: right;\">\n",
       "      <th>VoteId</th>\n",
       "      <th>Num</th>\n",
       "      <th>Proposal</th>\n",
       "      <th>MgtRec</th>\n",
       "      <th>VoteCast</th>\n",
       "      <th>Sponsor</th>\n",
       "      <th>Name</th>\n",
       "      <th>Ticker</th>\n",
       "      <th>secid</th>\n",
       "      <th>MeetDate</th>\n",
       "      <th>MeetType</th>\n",
       "      <th>RecDate</th>\n",
       "      <th>NumType</th>\n",
       "      <th>NumRoot</th>\n",
       "      <th>ReportYear</th>\n",
       "    </tr>\n",
       "  </thead>\n",
       "  <tbody>\n",
       "    <tr>\n",
       "      <td>VoteId0_17</td>\n",
       "      <td>1a</td>\n",
       "      <td>Elect Director Sondra L. Barbour</td>\n",
       "      <td>For</td>\n",
       "      <td>For</td>\n",
       "      <td>Management</td>\n",
       "      <td>3M COMPANY</td>\n",
       "      <td>MMM</td>\n",
       "      <td>88579Y101</td>\n",
       "      <td>2017-05-09</td>\n",
       "      <td>Annual</td>\n",
       "      <td>2017-03-14</td>\n",
       "      <td>digit_first</td>\n",
       "      <td>1</td>\n",
       "      <td>2017</td>\n",
       "    </tr>\n",
       "    <tr>\n",
       "      <td>VoteId0_17</td>\n",
       "      <td>1b</td>\n",
       "      <td>Elect Director Thomas \"Tony\" K. Brown</td>\n",
       "      <td>For</td>\n",
       "      <td>For</td>\n",
       "      <td>Management</td>\n",
       "      <td>3M COMPANY</td>\n",
       "      <td>MMM</td>\n",
       "      <td>88579Y101</td>\n",
       "      <td>2017-05-09</td>\n",
       "      <td>Annual</td>\n",
       "      <td>2017-03-14</td>\n",
       "      <td>digit_first</td>\n",
       "      <td>1</td>\n",
       "      <td>2017</td>\n",
       "    </tr>\n",
       "    <tr>\n",
       "      <td>VoteId0_17</td>\n",
       "      <td>1c</td>\n",
       "      <td>Elect Director Vance D. Coffman</td>\n",
       "      <td>For</td>\n",
       "      <td>For</td>\n",
       "      <td>Management</td>\n",
       "      <td>3M COMPANY</td>\n",
       "      <td>MMM</td>\n",
       "      <td>88579Y101</td>\n",
       "      <td>2017-05-09</td>\n",
       "      <td>Annual</td>\n",
       "      <td>2017-03-14</td>\n",
       "      <td>digit_first</td>\n",
       "      <td>1</td>\n",
       "      <td>2017</td>\n",
       "    </tr>\n",
       "    <tr>\n",
       "      <td>VoteId0_17</td>\n",
       "      <td>1d</td>\n",
       "      <td>Elect Director David B. Dillon</td>\n",
       "      <td>For</td>\n",
       "      <td>For</td>\n",
       "      <td>Management</td>\n",
       "      <td>3M COMPANY</td>\n",
       "      <td>MMM</td>\n",
       "      <td>88579Y101</td>\n",
       "      <td>2017-05-09</td>\n",
       "      <td>Annual</td>\n",
       "      <td>2017-03-14</td>\n",
       "      <td>digit_first</td>\n",
       "      <td>1</td>\n",
       "      <td>2017</td>\n",
       "    </tr>\n",
       "    <tr>\n",
       "      <td>VoteId0_17</td>\n",
       "      <td>1e</td>\n",
       "      <td>Elect Director Michael L. Eskew</td>\n",
       "      <td>For</td>\n",
       "      <td>For</td>\n",
       "      <td>Management</td>\n",
       "      <td>3M COMPANY</td>\n",
       "      <td>MMM</td>\n",
       "      <td>88579Y101</td>\n",
       "      <td>2017-05-09</td>\n",
       "      <td>Annual</td>\n",
       "      <td>2017-03-14</td>\n",
       "      <td>digit_first</td>\n",
       "      <td>1</td>\n",
       "      <td>2017</td>\n",
       "    </tr>\n",
       "  </tbody>\n",
       "</table>"
      ],
      "text/plain": [
       "<IPython.core.display.HTML object>"
      ]
     },
     "metadata": {},
     "output_type": "display_data"
    }
   ],
   "source": [
    "from IPython.display import display, HTML\n",
    "display(HTML(ps.head().to_html(index=False)))"
   ]
  },
  {
   "cell_type": "markdown",
   "metadata": {},
   "source": [
    "We get one row per proposal with some metadata added for convenience.\n",
    "\n",
    "Let's now look at the coverage."
   ]
  },
  {
   "cell_type": "code",
   "execution_count": 40,
   "metadata": {},
   "outputs": [
    {
     "data": {
      "text/html": [
       "<div>\n",
       "<style scoped>\n",
       "    .dataframe tbody tr th:only-of-type {\n",
       "        vertical-align: middle;\n",
       "    }\n",
       "\n",
       "    .dataframe tbody tr th {\n",
       "        vertical-align: top;\n",
       "    }\n",
       "\n",
       "    .dataframe thead th {\n",
       "        text-align: right;\n",
       "    }\n",
       "</style>\n",
       "<table border=\"1\" class=\"dataframe\">\n",
       "  <thead>\n",
       "    <tr style=\"text-align: right;\">\n",
       "      <th>MeetType</th>\n",
       "      <th>Annual</th>\n",
       "      <th>Court</th>\n",
       "      <th>Proxy Contest</th>\n",
       "      <th>Special</th>\n",
       "      <th>Total</th>\n",
       "    </tr>\n",
       "    <tr>\n",
       "      <th>ReportYear</th>\n",
       "      <th></th>\n",
       "      <th></th>\n",
       "      <th></th>\n",
       "      <th></th>\n",
       "      <th></th>\n",
       "    </tr>\n",
       "  </thead>\n",
       "  <tbody>\n",
       "    <tr>\n",
       "      <th>2015</th>\n",
       "      <td>485</td>\n",
       "      <td>1</td>\n",
       "      <td>4</td>\n",
       "      <td>32</td>\n",
       "      <td>522</td>\n",
       "    </tr>\n",
       "    <tr>\n",
       "      <th>2016</th>\n",
       "      <td>485</td>\n",
       "      <td>2</td>\n",
       "      <td>0</td>\n",
       "      <td>41</td>\n",
       "      <td>528</td>\n",
       "    </tr>\n",
       "    <tr>\n",
       "      <th>2017</th>\n",
       "      <td>493</td>\n",
       "      <td>0</td>\n",
       "      <td>3</td>\n",
       "      <td>22</td>\n",
       "      <td>518</td>\n",
       "    </tr>\n",
       "    <tr>\n",
       "      <th>2018</th>\n",
       "      <td>489</td>\n",
       "      <td>1</td>\n",
       "      <td>5</td>\n",
       "      <td>17</td>\n",
       "      <td>512</td>\n",
       "    </tr>\n",
       "  </tbody>\n",
       "</table>\n",
       "</div>"
      ],
      "text/plain": [
       "MeetType    Annual  Court  Proxy Contest  Special  Total\n",
       "ReportYear                                              \n",
       "2015           485      1              4       32    522\n",
       "2016           485      2              0       41    528\n",
       "2017           493      0              3       22    518\n",
       "2018           489      1              5       17    512"
      ]
     },
     "execution_count": 40,
     "metadata": {},
     "output_type": "execute_result"
    }
   ],
   "source": [
    "pt = ps.groupby(by=['ReportYear','MeetType'])['VoteId'].agg(lambda x:len(x.unique())).reset_index(name='Vote Count')\n",
    "pt = pt.pivot_table(index='ReportYear', columns='MeetType', values='Vote Count', fill_value=0)\n",
    "pt['Total'] = pt.sum(axis=1)\n",
    "pt"
   ]
  },
  {
   "cell_type": "markdown",
   "metadata": {},
   "source": [
    "As expected, we have almost 500 annual meeetings each year (500 index members), and around 30 Special meetings each year. Special meetings are organised ad-hoc for important timely matters, such as merges, acquisitions and golden parachutes for corporate.\n",
    "\n",
    "Our data goes back all the way to reporting year 2015 - earliest covered meeting took place on 2014.07.07."
   ]
  },
  {
   "cell_type": "markdown",
   "metadata": {},
   "source": [
    "## Whose vote is it anyway?"
   ]
  },
  {
   "cell_type": "markdown",
   "metadata": {},
   "source": [
    "Whenever a vote is submitted, it is sponsored either by management or shareholders. Most of the time, votes are proposed by management, however, ocassionally, shareholders feel the need to raise votes on certain issues.\n",
    "\n",
    "Let's look at the most common votes for both groups."
   ]
  },
  {
   "cell_type": "code",
   "execution_count": 41,
   "metadata": {},
   "outputs": [],
   "source": [
    "#collapse the more common proposals around electing new directors and auditors.\n",
    "ps['Proposal_generic'] = ps['Proposal'].copy()\n",
    "ps.loc[ps['Proposal_generic'].str.startswith(\"Elect Director \"), 'Proposal_generic'] = 'Elect Director <Name>'\n",
    "ps.loc[ps['Proposal_generic'].str.match('^Ratify .* as Auditors$', case=False), 'Proposal_generic'] = 'Ratify <Name> as Auditors'"
   ]
  },
  {
   "cell_type": "markdown",
   "metadata": {},
   "source": [
    "<a id=\"section_top_issues\"></a>\n",
    "[<div style=\"float: right\">Go to stylised facts</div>](#section_0)\n",
    "Management top 10 most common votes are:"
   ]
  },
  {
   "cell_type": "code",
   "execution_count": 42,
   "metadata": {},
   "outputs": [
    {
     "data": {
      "text/html": [
       "<div>\n",
       "<style scoped>\n",
       "    .dataframe tbody tr th:only-of-type {\n",
       "        vertical-align: middle;\n",
       "    }\n",
       "\n",
       "    .dataframe tbody tr th {\n",
       "        vertical-align: top;\n",
       "    }\n",
       "\n",
       "    .dataframe thead th {\n",
       "        text-align: right;\n",
       "    }\n",
       "</style>\n",
       "<table border=\"1\" class=\"dataframe\">\n",
       "  <thead>\n",
       "    <tr style=\"text-align: right;\">\n",
       "      <th></th>\n",
       "      <th>Vote Count</th>\n",
       "    </tr>\n",
       "  </thead>\n",
       "  <tbody>\n",
       "    <tr>\n",
       "      <th>Elect Director &lt;Name&gt;</th>\n",
       "      <td>19169</td>\n",
       "    </tr>\n",
       "    <tr>\n",
       "      <th>Advisory Vote to Ratify Named Executive Officers' Compensation</th>\n",
       "      <td>1899</td>\n",
       "    </tr>\n",
       "    <tr>\n",
       "      <th>Ratify &lt;Name&gt; as Auditors</th>\n",
       "      <td>1811</td>\n",
       "    </tr>\n",
       "    <tr>\n",
       "      <th>Advisory Vote on Say on Pay Frequency</th>\n",
       "      <td>487</td>\n",
       "    </tr>\n",
       "    <tr>\n",
       "      <th>Amend Omnibus Stock Plan</th>\n",
       "      <td>314</td>\n",
       "    </tr>\n",
       "    <tr>\n",
       "      <th>Approve Omnibus Stock Plan</th>\n",
       "      <td>145</td>\n",
       "    </tr>\n",
       "    <tr>\n",
       "      <th>Amend Executive Incentive Bonus Plan</th>\n",
       "      <td>96</td>\n",
       "    </tr>\n",
       "    <tr>\n",
       "      <th>Adjourn Meeting</th>\n",
       "      <td>96</td>\n",
       "    </tr>\n",
       "    <tr>\n",
       "      <th>Ratify Auditors</th>\n",
       "      <td>77</td>\n",
       "    </tr>\n",
       "    <tr>\n",
       "      <th>Advisory Vote on Golden Parachutes</th>\n",
       "      <td>68</td>\n",
       "    </tr>\n",
       "  </tbody>\n",
       "</table>\n",
       "</div>"
      ],
      "text/plain": [
       "                                                    Vote Count\n",
       "Elect Director <Name>                                    19169\n",
       "Advisory Vote to Ratify Named Executive Officer...        1899\n",
       "Ratify <Name> as Auditors                                 1811\n",
       "Advisory Vote on Say on Pay Frequency                      487\n",
       "Amend Omnibus Stock Plan                                   314\n",
       "Approve Omnibus Stock Plan                                 145\n",
       "Amend Executive Incentive Bonus Plan                        96\n",
       "Adjourn Meeting                                             96\n",
       "Ratify Auditors                                             77\n",
       "Advisory Vote on Golden Parachutes                          68"
      ]
     },
     "execution_count": 42,
     "metadata": {},
     "output_type": "execute_result"
    }
   ],
   "source": [
    "ps[ps['Sponsor']=='Management']['Proposal_generic'].value_counts().head(10).to_frame(name='Vote Count')"
   ]
  },
  {
   "cell_type": "markdown",
   "metadata": {},
   "source": [
    "For shareholders, top 10 most common votes are:"
   ]
  },
  {
   "cell_type": "code",
   "execution_count": 43,
   "metadata": {},
   "outputs": [
    {
     "data": {
      "text/html": [
       "<div>\n",
       "<style scoped>\n",
       "    .dataframe tbody tr th:only-of-type {\n",
       "        vertical-align: middle;\n",
       "    }\n",
       "\n",
       "    .dataframe tbody tr th {\n",
       "        vertical-align: top;\n",
       "    }\n",
       "\n",
       "    .dataframe thead th {\n",
       "        text-align: right;\n",
       "    }\n",
       "</style>\n",
       "<table border=\"1\" class=\"dataframe\">\n",
       "  <thead>\n",
       "    <tr style=\"text-align: right;\">\n",
       "      <th></th>\n",
       "      <th>Vote Count</th>\n",
       "    </tr>\n",
       "  </thead>\n",
       "  <tbody>\n",
       "    <tr>\n",
       "      <th>Require Independent Board Chairman</th>\n",
       "      <td>166</td>\n",
       "    </tr>\n",
       "    <tr>\n",
       "      <th>Report on Lobbying Payments and Policy</th>\n",
       "      <td>143</td>\n",
       "    </tr>\n",
       "    <tr>\n",
       "      <th>Provide Right to Act by Written Consent</th>\n",
       "      <td>100</td>\n",
       "    </tr>\n",
       "    <tr>\n",
       "      <th>Report on Political Contributions</th>\n",
       "      <td>83</td>\n",
       "    </tr>\n",
       "    <tr>\n",
       "      <th>Proxy Access</th>\n",
       "      <td>76</td>\n",
       "    </tr>\n",
       "    <tr>\n",
       "      <th>Adopt Proxy Access Right</th>\n",
       "      <td>65</td>\n",
       "    </tr>\n",
       "    <tr>\n",
       "      <th>Reduce Ownership Threshold for Shareholders to Call Special Meeting</th>\n",
       "      <td>58</td>\n",
       "    </tr>\n",
       "    <tr>\n",
       "      <th>Elect Director &lt;Name&gt;</th>\n",
       "      <td>34</td>\n",
       "    </tr>\n",
       "    <tr>\n",
       "      <th>Pro-rata Vesting of Equity Awards</th>\n",
       "      <td>33</td>\n",
       "    </tr>\n",
       "    <tr>\n",
       "      <th>Amend Proxy Access Right</th>\n",
       "      <td>33</td>\n",
       "    </tr>\n",
       "  </tbody>\n",
       "</table>\n",
       "</div>"
      ],
      "text/plain": [
       "                                                    Vote Count\n",
       "Require Independent Board Chairman                         166\n",
       "Report on Lobbying Payments and Policy                     143\n",
       "Provide Right to Act by Written Consent                    100\n",
       "Report on Political Contributions                           83\n",
       "Proxy Access                                                76\n",
       "Adopt Proxy Access Right                                    65\n",
       "Reduce Ownership Threshold for Shareholders to ...          58\n",
       "Elect Director <Name>                                       34\n",
       "Pro-rata Vesting of Equity Awards                           33\n",
       "Amend Proxy Access Right                                    33"
      ]
     },
     "execution_count": 43,
     "metadata": {},
     "output_type": "execute_result"
    }
   ],
   "source": [
    "ps[ps['Sponsor']=='Shareholder']['Proposal_generic'].value_counts().head(10).to_frame(name='Vote Count')"
   ]
  },
  {
   "cell_type": "markdown",
   "metadata": {},
   "source": [
    "Interestingly, corporate compensation is high on the management agenda (#2 and #4 in management top 10). For shareholders, the most important issues are having an independent chairman and increased transparency around coporate lobbying and political contributions."
   ]
  },
  {
   "cell_type": "markdown",
   "metadata": {},
   "source": [
    "<a id=\"section_2\"></a>\n",
    "[<div style=\"float: right\">Go to stylised facts</div>](#section_0)\n",
    "We also expect to see management generally opposing shareholder votes. Sure enough, the data agrees:"
   ]
  },
  {
   "cell_type": "code",
   "execution_count": 44,
   "metadata": {},
   "outputs": [
    {
     "data": {
      "text/html": [
       "<div>\n",
       "<style scoped>\n",
       "    .dataframe tbody tr th:only-of-type {\n",
       "        vertical-align: middle;\n",
       "    }\n",
       "\n",
       "    .dataframe tbody tr th {\n",
       "        vertical-align: top;\n",
       "    }\n",
       "\n",
       "    .dataframe thead tr th {\n",
       "        text-align: left;\n",
       "    }\n",
       "\n",
       "    .dataframe thead tr:last-of-type th {\n",
       "        text-align: right;\n",
       "    }\n",
       "</style>\n",
       "<table border=\"1\" class=\"dataframe\">\n",
       "  <thead>\n",
       "    <tr>\n",
       "      <th></th>\n",
       "      <th colspan=\"2\" halign=\"left\">Percentage</th>\n",
       "      <th colspan=\"2\" halign=\"left\">Vote Count</th>\n",
       "    </tr>\n",
       "    <tr>\n",
       "      <th>Sponsor</th>\n",
       "      <th>Management</th>\n",
       "      <th>Shareholder</th>\n",
       "      <th>Management</th>\n",
       "      <th>Shareholder</th>\n",
       "    </tr>\n",
       "    <tr>\n",
       "      <th>MgtRec</th>\n",
       "      <th></th>\n",
       "      <th></th>\n",
       "      <th></th>\n",
       "      <th></th>\n",
       "    </tr>\n",
       "  </thead>\n",
       "  <tbody>\n",
       "    <tr>\n",
       "      <th>Abstain</th>\n",
       "      <td>0.000000</td>\n",
       "      <td>0.000569</td>\n",
       "      <td>0</td>\n",
       "      <td>1</td>\n",
       "    </tr>\n",
       "    <tr>\n",
       "      <th>Against</th>\n",
       "      <td>0.000234</td>\n",
       "      <td>0.927149</td>\n",
       "      <td>6</td>\n",
       "      <td>1629</td>\n",
       "    </tr>\n",
       "    <tr>\n",
       "      <th>Against None</th>\n",
       "      <td>0.000000</td>\n",
       "      <td>0.000569</td>\n",
       "      <td>0</td>\n",
       "      <td>1</td>\n",
       "    </tr>\n",
       "    <tr>\n",
       "      <th>For</th>\n",
       "      <td>0.979349</td>\n",
       "      <td>0.056915</td>\n",
       "      <td>25135</td>\n",
       "      <td>100</td>\n",
       "    </tr>\n",
       "    <tr>\n",
       "      <th>None</th>\n",
       "      <td>0.001714</td>\n",
       "      <td>0.014229</td>\n",
       "      <td>44</td>\n",
       "      <td>25</td>\n",
       "    </tr>\n",
       "    <tr>\n",
       "      <th>One Year</th>\n",
       "      <td>0.017923</td>\n",
       "      <td>0.000000</td>\n",
       "      <td>460</td>\n",
       "      <td>0</td>\n",
       "    </tr>\n",
       "    <tr>\n",
       "      <th>Three Years</th>\n",
       "      <td>0.000779</td>\n",
       "      <td>0.000000</td>\n",
       "      <td>20</td>\n",
       "      <td>0</td>\n",
       "    </tr>\n",
       "    <tr>\n",
       "      <th>Withhold</th>\n",
       "      <td>0.000000</td>\n",
       "      <td>0.000569</td>\n",
       "      <td>0</td>\n",
       "      <td>1</td>\n",
       "    </tr>\n",
       "  </tbody>\n",
       "</table>\n",
       "</div>"
      ],
      "text/plain": [
       "             Percentage             Vote Count            \n",
       "Sponsor      Management Shareholder Management Shareholder\n",
       "MgtRec                                                    \n",
       "Abstain        0.000000    0.000569          0           1\n",
       "Against        0.000234    0.927149          6        1629\n",
       "Against None   0.000000    0.000569          0           1\n",
       "For            0.979349    0.056915      25135         100\n",
       "None           0.001714    0.014229         44          25\n",
       "One Year       0.017923    0.000000        460           0\n",
       "Three Years    0.000779    0.000000         20           0\n",
       "Withhold       0.000000    0.000569          0           1"
      ]
     },
     "execution_count": 44,
     "metadata": {},
     "output_type": "execute_result"
    }
   ],
   "source": [
    "pt = ps.groupby(by=['MgtRec','Sponsor']).size().reset_index(name='Vote Count')\n",
    "pt['Percentage'] = pt.groupby(by=['Sponsor'])['Vote Count'].transform(lambda x:x/sum(x))\n",
    "pt = pt.pivot_table(index='MgtRec',columns='Sponsor',values=['Vote Count','Percentage'],fill_value=0)\n",
    "pt"
   ]
  },
  {
   "cell_type": "markdown",
   "metadata": {},
   "source": [
    "Management recommends voting Against shareholder proposals a whopping 93% of the time."
   ]
  },
  {
   "cell_type": "markdown",
   "metadata": {},
   "source": [
    "<a id=\"section_1\"></a>\n",
    "[<div style=\"float: right\">Go to stylised facts</div>](#section_0)\n",
    "Given this tension between shareholder and management proposals, how often do shareholders sponsor votes? Let's look at a breakdown by years:"
   ]
  },
  {
   "cell_type": "code",
   "execution_count": 45,
   "metadata": {},
   "outputs": [
    {
     "data": {
      "image/png": "[encoded data removed]",
      "text/plain": [
       "<Figure size 432x288 with 2 Axes>"
      ]
     },
     "metadata": {
      "needs_background": "light"
     },
     "output_type": "display_data"
    },
    {
     "name": "stdout",
     "output_type": "stream",
     "text": [
      "Raw data:\n"
     ]
    },
    {
     "data": {
      "text/html": [
       "<table border=\"1\" class=\"dataframe\">\n",
       "  <thead>\n",
       "    <tr style=\"text-align: right;\">\n",
       "      <th>Sponsor</th>\n",
       "      <th>ReportYear</th>\n",
       "      <th>Count</th>\n",
       "      <th>Percentage</th>\n",
       "    </tr>\n",
       "  </thead>\n",
       "  <tbody>\n",
       "    <tr>\n",
       "      <td>Shareholder</td>\n",
       "      <td>2015</td>\n",
       "      <td>506</td>\n",
       "      <td>0.075522</td>\n",
       "    </tr>\n",
       "    <tr>\n",
       "      <td>Shareholder</td>\n",
       "      <td>2016</td>\n",
       "      <td>426</td>\n",
       "      <td>0.062915</td>\n",
       "    </tr>\n",
       "    <tr>\n",
       "      <td>Shareholder</td>\n",
       "      <td>2018</td>\n",
       "      <td>414</td>\n",
       "      <td>0.061470</td>\n",
       "    </tr>\n",
       "    <tr>\n",
       "      <td>Shareholder</td>\n",
       "      <td>2017</td>\n",
       "      <td>411</td>\n",
       "      <td>0.056957</td>\n",
       "    </tr>\n",
       "  </tbody>\n",
       "</table>"
      ],
      "text/plain": [
       "<IPython.core.display.HTML object>"
      ]
     },
     "metadata": {},
     "output_type": "display_data"
    }
   ],
   "source": [
    "import matplotlib.pyplot as plt\n",
    "\n",
    "pt = ps.groupby(by=['Sponsor','ReportYear']).size().reset_index(name='Count').sort_values('Count', ascending=False)\n",
    "pt['Percentage'] = pt.groupby(by=['ReportYear'])['Count'].transform(lambda x:x/sum(x))\n",
    "pt[pt['Sponsor']=='Shareholder'].plot(x='ReportYear', y=['Percentage','Count'], secondary_y=['Count'],\n",
    "                     kind='bar',\n",
    "                     title='Number of votes initiated by Shareholders')\n",
    "plt.show()\n",
    "print('Raw data:')\n",
    "display(HTML(pt[pt['Sponsor']=='Shareholder'].to_html(index=False)))"
   ]
  },
  {
   "cell_type": "markdown",
   "metadata": {},
   "source": [
    "So only 6% of the votes are proposed by shareholders, with that number decreasing noticeably in recent years."
   ]
  },
  {
   "cell_type": "markdown",
   "metadata": {},
   "source": [
    "## A matter of form?\n",
    "\n",
    "<a id=\"section_3\"></a>\n",
    "[<div style=\"float: right\">Go to stylised facts</div>](#section_0)\n",
    "The N-PX reports also helpfully include both the vote cast by the fund as well as the management recommendation. So let's take a look at how often State Street voted in line with management's wishes."
   ]
  },
  {
   "cell_type": "code",
   "execution_count": 46,
   "metadata": {},
   "outputs": [],
   "source": [
    "ps['Agree'] = ps['MgtRec']==ps['VoteCast']"
   ]
  },
  {
   "cell_type": "code",
   "execution_count": 47,
   "metadata": {},
   "outputs": [
    {
     "data": {
      "image/png": "[encoded data removed]",
      "text/plain": [
       "<Figure size 432x288 with 1 Axes>"
      ]
     },
     "metadata": {
      "needs_background": "light"
     },
     "output_type": "display_data"
    },
    {
     "name": "stdout",
     "output_type": "stream",
     "text": [
      "Raw data:\n"
     ]
    },
    {
     "data": {
      "text/html": [
       "<table border=\"1\" class=\"dataframe\">\n",
       "  <thead>\n",
       "    <tr style=\"text-align: right;\">\n",
       "      <th>Agree</th>\n",
       "      <th>ReportYear</th>\n",
       "      <th>Count</th>\n",
       "      <th>Percentage</th>\n",
       "    </tr>\n",
       "  </thead>\n",
       "  <tbody>\n",
       "    <tr>\n",
       "      <td>True</td>\n",
       "      <td>2015</td>\n",
       "      <td>6245</td>\n",
       "      <td>0.932090</td>\n",
       "    </tr>\n",
       "    <tr>\n",
       "      <td>True</td>\n",
       "      <td>2016</td>\n",
       "      <td>6308</td>\n",
       "      <td>0.931620</td>\n",
       "    </tr>\n",
       "    <tr>\n",
       "      <td>True</td>\n",
       "      <td>2017</td>\n",
       "      <td>6741</td>\n",
       "      <td>0.934174</td>\n",
       "    </tr>\n",
       "    <tr>\n",
       "      <td>True</td>\n",
       "      <td>2018</td>\n",
       "      <td>6331</td>\n",
       "      <td>0.940015</td>\n",
       "    </tr>\n",
       "  </tbody>\n",
       "</table>"
      ],
      "text/plain": [
       "<IPython.core.display.HTML object>"
      ]
     },
     "metadata": {},
     "output_type": "display_data"
    }
   ],
   "source": [
    "pt = ps.groupby(by=['Agree','MgtRec','VoteCast','ReportYear']).size().reset_index(name='Count').sort_values('Count', ascending=False)\n",
    "pt = pt.groupby(by=['Agree','ReportYear']).agg({'Count':sum}).reset_index()\n",
    "pt['Percentage'] = pt.groupby(by=['ReportYear'])['Count'].transform(lambda x:x/sum(x))\n",
    "pt[pt['Agree']].plot(x='ReportYear', y=['Percentage'],\n",
    "                     ylim=0.9, kind='bar',\n",
    "                     title='Percentage of time State Street Equities 500 has voted with Management')\n",
    "plt.show()\n",
    "print('Raw data:')\n",
    "display(HTML(pt[pt['Agree']].to_html(index=False)));"
   ]
  },
  {
   "cell_type": "markdown",
   "metadata": {},
   "source": [
    "Two interesting points to note here:\n",
    "\n",
    "1. The absolute level of agreement is around 93%. This means that funds disagree with management on only 1 vote out of 200. While this may seem like a large value, it is difficult to know what this means. Is management following State Street's indications? Or is State Street passively following management recommendations? Who is driving this particular bus?\n",
    "1. The agreement ratio has been trending upwards in recent years, so this fund-management dynamic has been increasing in strength."
   ]
  },
  {
   "cell_type": "markdown",
   "metadata": {},
   "source": [
    "<a id=\"section_4\"></a>\n",
    "[<div style=\"float: right\">Go to stylised facts</div>](#section_0)\n",
    "To further drill into the apparent agreement between management and fund voting, let's look at a breakdown by vote sponsor:"
   ]
  },
  {
   "cell_type": "code",
   "execution_count": 48,
   "metadata": {
    "scrolled": false
   },
   "outputs": [
    {
     "data": {
      "image/png": "[encoded data removed]",
      "text/plain": [
       "<Figure size 432x288 with 1 Axes>"
      ]
     },
     "metadata": {
      "needs_background": "light"
     },
     "output_type": "display_data"
    },
    {
     "name": "stdout",
     "output_type": "stream",
     "text": [
      "Raw data:\n"
     ]
    },
    {
     "data": {
      "text/html": [
       "<table border=\"1\" class=\"dataframe\">\n",
       "  <thead>\n",
       "    <tr style=\"text-align: right;\">\n",
       "      <th>Sponsor</th>\n",
       "      <th>Management</th>\n",
       "      <th>Shareholder</th>\n",
       "    </tr>\n",
       "    <tr>\n",
       "      <th>ReportYear</th>\n",
       "      <th></th>\n",
       "      <th></th>\n",
       "    </tr>\n",
       "  </thead>\n",
       "  <tbody>\n",
       "    <tr>\n",
       "      <th>2015</th>\n",
       "      <td>0.957217</td>\n",
       "      <td>0.624506</td>\n",
       "    </tr>\n",
       "    <tr>\n",
       "      <th>2016</th>\n",
       "      <td>0.952876</td>\n",
       "      <td>0.615023</td>\n",
       "    </tr>\n",
       "    <tr>\n",
       "      <th>2017</th>\n",
       "      <td>0.952535</td>\n",
       "      <td>0.630170</td>\n",
       "    </tr>\n",
       "    <tr>\n",
       "      <th>2018</th>\n",
       "      <td>0.955387</td>\n",
       "      <td>0.705314</td>\n",
       "    </tr>\n",
       "  </tbody>\n",
       "</table>"
      ],
      "text/plain": [
       "<IPython.core.display.HTML object>"
      ]
     },
     "metadata": {},
     "output_type": "display_data"
    }
   ],
   "source": [
    "pt = ps.groupby(by=['Agree','MgtRec','VoteCast','ReportYear','Sponsor']).size().reset_index(name='Count').sort_values('Count', ascending=False)\n",
    "pt = pt.groupby(by=['Agree','ReportYear','Sponsor']).agg({'Count':sum}).reset_index()\n",
    "pt['Percentage'] = pt.groupby(by=['ReportYear','Sponsor'])['Count'].transform(lambda x:x/sum(x))\n",
    "pt = pt[pt['Agree']].pivot(index='ReportYear',columns='Sponsor',values='Percentage')\n",
    "pt.reset_index().plot(x='ReportYear', y=['Management', 'Shareholder'],\n",
    "                      ylim=(0.5,1.2), kind='bar',\n",
    "                      title='Percentage of time State Street Equities 500 has agreed with Management\\nbreakdown by sponsor');\n",
    "plt.show()\n",
    "print('Raw data:')\n",
    "display(HTML(pt.to_html()))"
   ]
  },
  {
   "cell_type": "markdown",
   "metadata": {},
   "source": [
    "So agreement between fund and management has seen a marked increase for shareholder-sponsored votes. Moreover, this is happening in the context of there beeing fewer and fewer shareholder-backed votes, as we've seen above.\n",
    "\n",
    "So not only are shareholders proposing fewer votes, they are also seeing less success in terms of convincing State Street to vote with them."
   ]
  },
  {
   "cell_type": "markdown",
   "metadata": {},
   "source": [
    "## Show me the money\n",
    "\n",
    "How contentious are votes related to corporate compensation?\n",
    "\n",
    "First, how often are such votes held?"
   ]
  },
  {
   "cell_type": "code",
   "execution_count": 49,
   "metadata": {},
   "outputs": [],
   "source": [
    "ps['Comp related'] = ps['Proposal'].str.contains('compensation', case=False)"
   ]
  },
  {
   "cell_type": "code",
   "execution_count": 50,
   "metadata": {},
   "outputs": [
    {
     "data": {
      "text/html": [
       "<table border=\"1\" class=\"dataframe\">\n",
       "  <thead>\n",
       "    <tr style=\"text-align: right;\">\n",
       "      <th>Comp related</th>\n",
       "      <th>Vote Count</th>\n",
       "      <th>Percentage</th>\n",
       "    </tr>\n",
       "  </thead>\n",
       "  <tbody>\n",
       "    <tr>\n",
       "      <td>False</td>\n",
       "      <td>25393</td>\n",
       "      <td>0.926008</td>\n",
       "    </tr>\n",
       "    <tr>\n",
       "      <td>True</td>\n",
       "      <td>2029</td>\n",
       "      <td>0.073992</td>\n",
       "    </tr>\n",
       "  </tbody>\n",
       "</table>"
      ],
      "text/plain": [
       "<IPython.core.display.HTML object>"
      ]
     },
     "metadata": {},
     "output_type": "display_data"
    }
   ],
   "source": [
    "pt = ps.groupby(by=['Comp related']).size().reset_index(name='Vote Count')\n",
    "pt['Percentage'] = pt['Vote Count']/pt['Vote Count'].sum()\n",
    "display(HTML(pt.to_html(index=False)))"
   ]
  },
  {
   "cell_type": "markdown",
   "metadata": {},
   "source": [
    "Around 7% of the proposals are related to compensation somehow. This is quite a large percentage - in fact it is the 2nd most common type of vote after director elections, as can be seen below."
   ]
  },
  {
   "cell_type": "code",
   "execution_count": 51,
   "metadata": {},
   "outputs": [
    {
     "data": {
      "text/html": [
       "<div>\n",
       "<style scoped>\n",
       "    .dataframe tbody tr th:only-of-type {\n",
       "        vertical-align: middle;\n",
       "    }\n",
       "\n",
       "    .dataframe tbody tr th {\n",
       "        vertical-align: top;\n",
       "    }\n",
       "\n",
       "    .dataframe thead th {\n",
       "        text-align: right;\n",
       "    }\n",
       "</style>\n",
       "<table border=\"1\" class=\"dataframe\">\n",
       "  <thead>\n",
       "    <tr style=\"text-align: right;\">\n",
       "      <th></th>\n",
       "      <th>Proposal_generic</th>\n",
       "    </tr>\n",
       "  </thead>\n",
       "  <tbody>\n",
       "    <tr>\n",
       "      <th>Elect Director &lt;Name&gt;</th>\n",
       "      <td>19203</td>\n",
       "    </tr>\n",
       "    <tr>\n",
       "      <th>Advisory Vote to Ratify Named Executive Officers' Compensation</th>\n",
       "      <td>1899</td>\n",
       "    </tr>\n",
       "    <tr>\n",
       "      <th>Ratify &lt;Name&gt; as Auditors</th>\n",
       "      <td>1811</td>\n",
       "    </tr>\n",
       "    <tr>\n",
       "      <th>Advisory Vote on Say on Pay Frequency</th>\n",
       "      <td>487</td>\n",
       "    </tr>\n",
       "    <tr>\n",
       "      <th>Amend Omnibus Stock Plan</th>\n",
       "      <td>314</td>\n",
       "    </tr>\n",
       "  </tbody>\n",
       "</table>\n",
       "</div>"
      ],
      "text/plain": [
       "                                                    Proposal_generic\n",
       "Elect Director <Name>                                          19203\n",
       "Advisory Vote to Ratify Named Executive Officer...              1899\n",
       "Ratify <Name> as Auditors                                       1811\n",
       "Advisory Vote on Say on Pay Frequency                            487\n",
       "Amend Omnibus Stock Plan                                         314"
      ]
     },
     "execution_count": 51,
     "metadata": {},
     "output_type": "execute_result"
    }
   ],
   "source": [
    "ps['Proposal_generic'].value_counts().to_frame().head(5)"
   ]
  },
  {
   "cell_type": "markdown",
   "metadata": {},
   "source": [
    "<a id=\"section_5\"></a>\n",
    "[<div style=\"float: right\">Go to stylised facts</div>](#section_0)\n",
    "So how often has State Street disagreed with management on compensation votes?"
   ]
  },
  {
   "cell_type": "code",
   "execution_count": 52,
   "metadata": {},
   "outputs": [
    {
     "data": {
      "image/png": "[encoded data removed]",
      "text/plain": [
       "<Figure size 432x288 with 1 Axes>"
      ]
     },
     "metadata": {
      "needs_background": "light"
     },
     "output_type": "display_data"
    },
    {
     "name": "stdout",
     "output_type": "stream",
     "text": [
      "Raw data:\n"
     ]
    },
    {
     "data": {
      "text/html": [
       "<table border=\"1\" class=\"dataframe\">\n",
       "  <thead>\n",
       "    <tr style=\"text-align: right;\">\n",
       "      <th>Agree</th>\n",
       "      <th>ReportYear</th>\n",
       "      <th>Vote Count</th>\n",
       "      <th>Percentage</th>\n",
       "    </tr>\n",
       "  </thead>\n",
       "  <tbody>\n",
       "    <tr>\n",
       "      <td>False</td>\n",
       "      <td>2015</td>\n",
       "      <td>23</td>\n",
       "      <td>0.046000</td>\n",
       "    </tr>\n",
       "    <tr>\n",
       "      <td>False</td>\n",
       "      <td>2016</td>\n",
       "      <td>26</td>\n",
       "      <td>0.052738</td>\n",
       "    </tr>\n",
       "    <tr>\n",
       "      <td>False</td>\n",
       "      <td>2017</td>\n",
       "      <td>32</td>\n",
       "      <td>0.061069</td>\n",
       "    </tr>\n",
       "    <tr>\n",
       "      <td>False</td>\n",
       "      <td>2018</td>\n",
       "      <td>40</td>\n",
       "      <td>0.078125</td>\n",
       "    </tr>\n",
       "  </tbody>\n",
       "</table>"
      ],
      "text/plain": [
       "<IPython.core.display.HTML object>"
      ]
     },
     "metadata": {},
     "output_type": "display_data"
    }
   ],
   "source": [
    "pt = ps[ps['Comp related']]\n",
    "pt = pt.groupby(by=['Agree','ReportYear']).size().reset_index(name='Vote Count')\n",
    "pt['Percentage'] = pt.groupby(by=['ReportYear'])['Vote Count'].transform(lambda x:x/sum(x))\n",
    "pt = pt[~pt['Agree']]\n",
    "pt.reset_index().plot(x='ReportYear', y='Percentage',\n",
    "                     kind='bar',\n",
    "                     title='Percentage of time State Street Equities 500 has disagreed with management;\\n(compensation related votes only)')\n",
    "plt.show()\n",
    "print('Raw data:')\n",
    "display(HTML(pt.to_html(index=False)))"
   ]
  },
  {
   "cell_type": "markdown",
   "metadata": {},
   "source": [
    "Interestingly, there has been a marked increase in disagreement between State Street and management when it comes to voting on compensation. This comes as no surprise, as corporate compensation has been a topic of dispute in the US in recent years, especially given the increasing levels of economic inequality."
   ]
  },
  {
   "cell_type": "markdown",
   "metadata": {},
   "source": [
    "## Conclusion\n",
    "\n",
    "The data paints a picture of a world where:\n",
    "1. Large passive mutual funds overwhelmingly vote the same way that management recommends\n",
    "1. Corporate management holds disproportionately large votes on issues such as compensation\n",
    "1. There have been fewer and fewer shareholder-backed votes - and the votes that are put forward by shareholders are seeing lower and lower levels of support from the large passive mutual funds\n",
    "\n",
    "Not all news are bad - State Street has been increasingly pushing back on executive compensation votes, although only around 7% of the time.\n",
    "\n",
    "If you are interested in seeing more research like this, follow us at [Matter](https://matter-funds.com)"
   ]
  },
  {
   "cell_type": "raw",
   "metadata": {},
   "source": [
    "<script>\n",
    "  function code_toggle() {\n",
    "    if (code_shown){\n",
    "      $('div.input').parent().not($('div.output_wrapper').parent()).hide('500');\n",
    "      $('#toggleButton').val('Show Code')\n",
    "    } else {\n",
    "      $('div.input').show('500');\n",
    "      $('#toggleButton').val('Hide Code')\n",
    "    }\n",
    "    code_shown = !code_shown\n",
    "  }\n",
    "\n",
    "  $( document ).ready(function(){\n",
    "    code_shown=false;\n",
    "    $('div.input').hide()\n",
    "  });\n",
    "</script>"
   ]
  },
  {
   "cell_type": "raw",
   "metadata": {},
   "source": [
    "<script>\n",
    "  $( document ).ready(function(){\n",
    "    $( document ).prop('title', 'State Street proxy voting | Matter');\n",
    "  });\n",
    "</script>"
   ]
  },
  {
   "cell_type": "raw",
   "metadata": {},
   "source": [
    "<script>\n",
    "  $(document).ready(function(){\n",
    "    $('div.prompt').hide();\n",
    "    $('div.back-to-top').hide();\n",
    "    $('nav#menubar').hide();\n",
    "    $('.breadcrumb').hide();\n",
    "    $('.hidden-print').hide();\n",
    "  });\n",
    "</script>\n",
    "\n",
    "<footer id=\"attribution\" style=\"float:right; color:#999; background:#fff;\">\n",
    "Created with Jupyter, data from <a href=\"https://matter-funds.com\">Matter</a>.\n",
    "</footer>"
   ]
  }
 ],
 "metadata": {
  "kernelspec": {
   "display_name": "Python 3",
   "language": "python",
   "name": "python3"
  },
  "language_info": {
   "codemirror_mode": {
    "name": "ipython",
    "version": 3
   },
   "file_extension": ".py",
   "mimetype": "text/x-python",
   "name": "python",
   "nbconvert_exporter": "python",
   "pygments_lexer": "ipython3",
   "version": "3.5.2"
  }
 },
 "nbformat": 4,
 "nbformat_minor": 2
}
