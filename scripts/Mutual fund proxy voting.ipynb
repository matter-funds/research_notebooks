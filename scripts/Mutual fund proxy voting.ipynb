{
 "cells": [
  {
   "cell_type": "raw",
   "metadata": {},
   "source": [
    "<style>\n",
    ".rendered_html td, .rendered_html th, .rendered_html tr {\n",
    "    text-align: right;\n",
    "    vertical-align: middle;\n",
    "    padding: .5em;\n",
    "    line-height: normal;\n",
    "    white-space: normal;\n",
    "    max-width: none;\n",
    "    border: none;\n",
    "}\n",
    "</style>"
   ]
  },
  {
   "cell_type": "raw",
   "metadata": {},
   "source": [
    "<!--Style for paragraph header anchors-->\n",
    "<style>\n",
    "a.anchor-link:link {\n",
    "    text-decoration: none;\n",
    "    padding: 0px 20px;\n",
    "    visibility: hidden;\n",
    "}\n",
    "</style>"
   ]
  },
  {
   "cell_type": "raw",
   "metadata": {},
   "source": [
    "<!--Style for code input areas-->\n",
    "<style>\n",
    "pre {\n",
    "    overflow: auto;\n",
    "    display: block;\n",
    "    padding: 8.5px;\n",
    "    margin: 0 0 0px;\n",
    "    font-size: 12px;\n",
    "    line-height: 1.42857143;\n",
    "    word-break: break-all;\n",
    "    word-wrap: break-word;\n",
    "    color: #333333;\n",
    "    background-color: #f5f5f5;\n",
    "    border: 1px solid #ccc;\n",
    "    border-radius: 2px;\n",
    "}\n",
    "div.input_area {\n",
    "    border: 1px solid #cfcfcf;\n",
    "    border-radius: 2px;\n",
    "    background: #f7f7f7;\n",
    "    line-height: 1.21429em;\n",
    "}\n",
    ".highlight .hll { background-color: #ffffcc }\n",
    ".highlight  { background: #f8f8f8; }\n",
    ".highlight .c { color: #408080; font-style: italic } /* Comment */\n",
    ".highlight .err { border: 1px solid #FF0000 } /* Error */\n",
    ".highlight .k { color: #008000; font-weight: bold } /* Keyword */\n",
    ".highlight .o { color: #666666 } /* Operator */\n",
    ".highlight .ch { color: #408080; font-style: italic } /* Comment.Hashbang */\n",
    ".highlight .cm { color: #408080; font-style: italic } /* Comment.Multiline */\n",
    ".highlight .cp { color: #BC7A00 } /* Comment.Preproc */\n",
    ".highlight .cpf { color: #408080; font-style: italic } /* Comment.PreprocFile */\n",
    ".highlight .c1 { color: #408080; font-style: italic } /* Comment.Single */\n",
    ".highlight .cs { color: #408080; font-style: italic } /* Comment.Special */\n",
    ".highlight .gd { color: #A00000 } /* Generic.Deleted */\n",
    ".highlight .ge { font-style: italic } /* Generic.Emph */\n",
    ".highlight .gr { color: #FF0000 } /* Generic.Error */\n",
    ".highlight .gh { color: #000080; font-weight: bold } /* Generic.Heading */\n",
    ".highlight .gi { color: #00A000 } /* Generic.Inserted */\n",
    ".highlight .go { color: #888888 } /* Generic.Output */\n",
    ".highlight .gp { color: #000080; font-weight: bold } /* Generic.Prompt */\n",
    ".highlight .gs { font-weight: bold } /* Generic.Strong */\n",
    ".highlight .gu { color: #800080; font-weight: bold } /* Generic.Subheading */\n",
    ".highlight .gt { color: #0044DD } /* Generic.Traceback */\n",
    ".highlight .kc { color: #008000; font-weight: bold } /* Keyword.Constant */\n",
    ".highlight .kd { color: #008000; font-weight: bold } /* Keyword.Declaration */\n",
    ".highlight .kn { color: #008000; font-weight: bold } /* Keyword.Namespace */\n",
    ".highlight .kp { color: #008000 } /* Keyword.Pseudo */\n",
    ".highlight .kr { color: #008000; font-weight: bold } /* Keyword.Reserved */\n",
    ".highlight .kt { color: #B00040 } /* Keyword.Type */\n",
    ".highlight .m { color: #666666 } /* Literal.Number */\n",
    ".highlight .s { color: #BA2121 } /* Literal.String */\n",
    ".highlight .na { color: #7D9029 } /* Name.Attribute */\n",
    ".highlight .nb { color: #008000 } /* Name.Builtin */\n",
    ".highlight .nc { color: #0000FF; font-weight: bold } /* Name.Class */\n",
    ".highlight .no { color: #880000 } /* Name.Constant */\n",
    ".highlight .nd { color: #AA22FF } /* Name.Decorator */\n",
    ".highlight .ni { color: #999999; font-weight: bold } /* Name.Entity */\n",
    ".highlight .ne { color: #D2413A; font-weight: bold } /* Name.Exception */\n",
    ".highlight .nf { color: #0000FF } /* Name.Function */\n",
    ".highlight .nl { color: #A0A000 } /* Name.Label */\n",
    ".highlight .nn { color: #0000FF; font-weight: bold } /* Name.Namespace */\n",
    ".highlight .nt { color: #008000; font-weight: bold } /* Name.Tag */\n",
    ".highlight .nv { color: #19177C } /* Name.Variable */\n",
    ".highlight .ow { color: #AA22FF; font-weight: bold } /* Operator.Word */\n",
    ".highlight .w { color: #bbbbbb } /* Text.Whitespace */\n",
    ".highlight .mb { color: #666666 } /* Literal.Number.Bin */\n",
    ".highlight .mf { color: #666666 } /* Literal.Number.Float */\n",
    ".highlight .mh { color: #666666 } /* Literal.Number.Hex */\n",
    ".highlight .mi { color: #666666 } /* Literal.Number.Integer */\n",
    ".highlight .mo { color: #666666 } /* Literal.Number.Oct */\n",
    ".highlight .sa { color: #BA2121 } /* Literal.String.Affix */\n",
    ".highlight .sb { color: #BA2121 } /* Literal.String.Backtick */\n",
    ".highlight .sc { color: #BA2121 } /* Literal.String.Char */\n",
    ".highlight .dl { color: #BA2121 } /* Literal.String.Delimiter */\n",
    ".highlight .sd { color: #BA2121; font-style: italic } /* Literal.String.Doc */\n",
    ".highlight .s2 { color: #BA2121 } /* Literal.String.Double */\n",
    ".highlight .se { color: #BB6622; font-weight: bold } /* Literal.String.Escape */\n",
    ".highlight .sh { color: #BA2121 } /* Literal.String.Heredoc */\n",
    ".highlight .si { color: #BB6688; font-weight: bold } /* Literal.String.Interpol */\n",
    ".highlight .sx { color: #008000 } /* Literal.String.Other */\n",
    ".highlight .sr { color: #BB6688 } /* Literal.String.Regex */\n",
    ".highlight .s1 { color: #BA2121 } /* Literal.String.Single */\n",
    ".highlight .ss { color: #19177C } /* Literal.String.Symbol */\n",
    ".highlight .bp { color: #008000 } /* Name.Builtin.Pseudo */\n",
    ".highlight .fm { color: #0000FF } /* Name.Function.Magic */\n",
    ".highlight .vc { color: #19177C } /* Name.Variable.Class */\n",
    ".highlight .vg { color: #19177C } /* Name.Variable.Global */\n",
    ".highlight .vi { color: #19177C } /* Name.Variable.Instance */\n",
    ".highlight .vm { color: #19177C } /* Name.Variable.Magic */\n",
    ".highlight .il { color: #666666 } /* Literal.Number.Integer.Long */\n",
    "</style>"
   ]
  },
  {
   "cell_type": "markdown",
   "metadata": {},
   "source": [
    "## Proxy voting\n",
    "\n",
    "<a id=\"section_facts_dummy\"></a>\n",
    "A large percentage of the equities market is managed passively (up to 40% according to a [report by Bank of America](https://www.reuters.com/article/us-stocks-etf-research-idUSKBN19Q18B)). As we've discussed in [other](https://www.matter-funds.com/a-new-kind-of-investing/) [places](https://www.matter-funds.com/engaging-is-better-than-avoiding/), this raises concerns about the effectiveness of corporate governance in the modern world.\n",
    "\n",
    "Passive index funds are incentivised to:\n",
    "1. track the performance of their benchmark (e.g. S&P 500)\n",
    "1. do it as cheaply as possible.\n",
    "\n",
    "Those two incentives means there is little reason for passive funds to engage and disagree with management on any issue: engagement requires costly research, time, and effort and it doesn't make the index fund track the benchmark any more closely.\n",
    "\n",
    "It is easier for passive index funds to follow management or third-party voting recommendations, with the result being a world where the balance of power is tipped excessively towards corporate managers.\n",
    "\n",
    "To gain a better understanding of the phenomenon, we look at historical voting data from top passive index providers:\n",
    "1. Vanguard\n",
    "1. Blackrock\n",
    "1. State Street\n",
    "\n",
    "For the impatient reader, we see the following stylised facts:\n",
    "<a id=\"section_facts\"></a>\n",
    "1. Mutual funds follow management recommendations an overwhelmingly large number of times. On average, these funds vote according to management around 95% of the time. Moreover, the trend for State Street and Vanguard, in particular, has been towards even more agreement. ([details](#section_agreement))\n",
    "1. When it comes to compensation, mutual funds very rarely vote against management: on average, less than 4% of the time. ([details](#section_compensation))"
   ]
  },
  {
   "cell_type": "markdown",
   "metadata": {},
   "source": [
    "## The data\n",
    "\n",
    "In the US, mutual funds are legally required to:\n",
    "1. cast all their proxy votes\n",
    "2. disclose their voting via a [form N-PX](https://www.sec.gov/edgar/searchedgar/n-px.htm).\n",
    "\n",
    "An example of what the [raw N-PX data](https://www.sec.gov/Archives/edgar/data/1094885/000119312518263427/0001193125-18-263427.txt) looks like:\n",
    "```\n",
    "APPLE INC.\n",
    "\n",
    "Ticker:       AAPL           Security ID:  037833100\n",
    "Meeting Date: FEB 13, 2018   Meeting Type: Annual\n",
    "Record Date:  DEC 15, 2017\n",
    "\n",
    "#   Proposal                             Mgt Rec Vote Cast Sponsor\n",
    "1a  Elect Director James Bell            For     For       Management\n",
    "1b  Elect Director Tim Cook              For     For       Management\n",
    "1c  Elect Director Al Gore               For     For       Management\n",
    "1d  Elect Director Bob Iger              For     For       Management\n",
    "1e  Elect Director Andrea Jung           For     For       Management\n",
    "1f  Elect Director Art Levinson          For     For       Management\n",
    "1g  Elect Director Ron Sugar             For     For       Management\n",
    "1h  Elect Director Sue Wagner            For     For       Management\n",
    "2   Ratify Ernst & Young LLP as Auditors For     For       Management\n",
    "3   Advisory Vote to Ratify Named        For     For       Management\n",
    "    Executive Officers' Compensation\n",
    "4   Amend Non-Employee Director Omnibus  For     For       Management\n",
    "    Stock Plan\n",
    "5   Proxy Access Amendments              Against Against   Shareholder\n",
    "6   Establish Human Rights Committee     Against Against   Shareholder\n",
    "```\n",
    "\n",
    "The above shows how [State Street Equity 500](https://money.usnews.com/funds/mutual-funds/large-blend/state-street-equity-500-index-fund/stfax) - a large S&P 500 tracking fund - voted in the Apple Annual General Meeting.\n",
    "The data is quite rich - we can see:\n",
    "1. The name of each proposal\n",
    "1. How management recommends their shareholders vote\n",
    "1. How State Street voted\n",
    "1. Who is sponsoring the proposal."
   ]
  },
  {
   "cell_type": "markdown",
   "metadata": {},
   "source": [
    "### Parsed data\n",
    "As part of our research work at Matter, we collect, clean and parse mutual fund voting data. You can see the codebase used to generate the mutual fund proxy voting data [here](https://github.com/matter-funds/npx_forms)."
   ]
  },
  {
   "cell_type": "markdown",
   "metadata": {},
   "source": [
    "Each fund has a different format for their form N-PX, so we have to do a bit of work to normalise and join the data together.\n",
    "\n",
    "If you want to see the nitty gritty code details, use this button to display the code used for this analysis.\n",
    "<form action=\"javascript:code_toggle()\"><input type=\"submit\" id=\"toggleButton\" value=\"Show all code\"></form>"
   ]
  },
  {
   "cell_type": "code",
   "execution_count": 31,
   "metadata": {},
   "outputs": [],
   "source": [
    "from pathlib import Path\n",
    "import pandas as pd\n",
    "npx_parsed_path = Path(\"/home/bogdan/projects/proxymonitor/data/npx_forms_parsed/STATE_STREET_MASTER_FUNDS\")\n",
    "npx_files = list(npx_parsed_path.glob(\"*/State_Street_Equity_500_Index_Portfolio.csv\"))\n",
    "ps = [pd.read_csv(f) for f in npx_files]\n",
    "for df,file in zip(ps, npx_files):\n",
    "    token = str(file).split('-')[1]\n",
    "    df['VoteId'] = df['VoteId'].astype(str) + '_' + token\n",
    "ps_stt = pd.concat(ps, ignore_index=True)\n",
    "ps_stt['Fund'] = 'State Street'"
   ]
  },
  {
   "cell_type": "code",
   "execution_count": 32,
   "metadata": {},
   "outputs": [],
   "source": [
    "common_columns = ['VoteId','Proposal','Sponsor','VoteCast','Name','Ticker','Num','NumRoot','Fund','Agree','ReportYear']"
   ]
  },
  {
   "cell_type": "code",
   "execution_count": 33,
   "metadata": {},
   "outputs": [],
   "source": [
    "#Drop badly parsed rows:\n",
    "ps_stt = ps_stt[~ps_stt[\"NumType\"].isnull()]\n",
    "ps_stt = ps_stt[~ps_stt[\"Num\"].isnull()]\n",
    "ps_stt['MeetDate'] = pd.to_datetime(ps_stt['MeetDate'])\n",
    "adj_term = ps_stt['MeetDate'].min() - pd.to_datetime('2014.01.01')\n",
    "ps_stt['ReportYear'] = (ps_stt['MeetDate'] - adj_term).dt.year + 1\n",
    "\n",
    "ps_stt['Agree'] = ps_stt['MgtRec']==ps_stt['VoteCast']\n",
    "ps_stt = ps_stt[common_columns]"
   ]
  },
  {
   "cell_type": "code",
   "execution_count": 34,
   "metadata": {},
   "outputs": [],
   "source": [
    "npx_parsed_path = Path(\"/home/bogdan/projects/proxymonitor/data/npx_forms_parsed/iShares_Trust\")\n",
    "npx_files = list(npx_parsed_path.glob(\"*/iShares_Core_S&P_500_ETF.csv\"))\n",
    "ps = [pd.read_csv(f) for f in npx_files]\n",
    "for df,file in zip(ps, npx_files):\n",
    "    token = '_'.join(str(file).split('/')[-2].split('-')[1:][::-1])\n",
    "    df['VoteId'] = df['VoteId'].astype(str) + '_' + token\n",
    "ps_br = pd.concat(ps, ignore_index=True)\n",
    "ps_br['Fund'] = 'Blackrock'"
   ]
  },
  {
   "cell_type": "code",
   "execution_count": 35,
   "metadata": {},
   "outputs": [],
   "source": [
    "#Drop badly parsed rows:\n",
    "ps_br = ps_br[~ps_br[\"NumType\"].isnull()]\n",
    "ps_br = ps_br[~ps_br[\"Num\"].isnull()]\n",
    "ps_br['MeetDate'] = pd.to_datetime(ps_br['MeetDate'])\n",
    "adj_term = ps_br['MeetDate'].min() - pd.to_datetime('2012.01.01')\n",
    "ps_br['ReportYear'] = (ps_br['MeetDate'] - adj_term).dt.year + 1\n",
    "\n",
    "ps_br['Agree'] = ps_br['MgtRec']==ps_br['VoteCast']\n",
    "ps_br = ps_br[common_columns]"
   ]
  },
  {
   "cell_type": "code",
   "execution_count": 36,
   "metadata": {},
   "outputs": [],
   "source": [
    "npx_parsed_path = Path(\"/home/bogdan/projects/proxymonitor/data/npx_forms_parsed/VANGUARD/\")\n",
    "npx_files = list(npx_parsed_path.glob(\"*\"))\n",
    "ps = [pd.read_csv(f, index_col=0) for f in npx_files]\n",
    "for df,file in zip(ps, npx_files):\n",
    "    token = str(file)[-8:]\n",
    "    df['VoteId'] = df['VoteId'].astype(str) + '_' + token\n",
    "ps_vg = pd.concat(ps, ignore_index=True)\n",
    "ps_vg['Fund'] = 'Vanguard'"
   ]
  },
  {
   "cell_type": "code",
   "execution_count": 37,
   "metadata": {},
   "outputs": [],
   "source": [
    "ps_vg['MeetDate'] = pd.to_datetime(ps_vg['MeetDate'])\n",
    "adj_term = ps_vg['MeetDate'].min() - pd.to_datetime('2011.01.01')\n",
    "ps_vg['ReportYear'] = (ps_vg['MeetDate'] - adj_term).dt.year + 1\n",
    "\n",
    "ps_vg['Agree'] = ps_vg['ForAgainstMgmt'].apply(lambda x:{'FOR':True,'AGAINST':False}.get(x,'N/A'))\n",
    "ps_vg['MgtRec'] = 'N/A'\n",
    "ps_vg.loc[ps_vg['Agree']==True,'MgtRec'] = ps_vg['VoteCast']\n",
    "ps_vg.loc[ps_vg['Agree']==False,'MgtRec'] = ps_vg['VoteCast'].apply(lambda x:{'FOR':'AGAINST','AGAINST':'FOR'}.get(x,'N/A'))\n",
    "ps_vg = ps_vg[common_columns]"
   ]
  },
  {
   "cell_type": "code",
   "execution_count": 38,
   "metadata": {},
   "outputs": [],
   "source": [
    "ps = pd.concat([ps_stt,ps_br,ps_vg], ignore_index=True)"
   ]
  },
  {
   "cell_type": "markdown",
   "metadata": {},
   "source": [
    "Let's look at the data:"
   ]
  },
  {
   "cell_type": "code",
   "execution_count": 39,
   "metadata": {},
   "outputs": [
    {
     "data": {
      "text/html": [
       "<table border=\"1\" class=\"dataframe\">\n",
       "  <thead>\n",
       "    <tr style=\"text-align: right;\">\n",
       "      <th>VoteId</th>\n",
       "      <th>Proposal</th>\n",
       "      <th>Sponsor</th>\n",
       "      <th>VoteCast</th>\n",
       "      <th>Name</th>\n",
       "      <th>Ticker</th>\n",
       "      <th>Num</th>\n",
       "      <th>NumRoot</th>\n",
       "      <th>Fund</th>\n",
       "      <th>Agree</th>\n",
       "      <th>ReportYear</th>\n",
       "    </tr>\n",
       "  </thead>\n",
       "  <tbody>\n",
       "    <tr>\n",
       "      <td>VoteId0_18</td>\n",
       "      <td>Elect Director Sondra L. Barbour</td>\n",
       "      <td>Management</td>\n",
       "      <td>For</td>\n",
       "      <td>3M COMPANY</td>\n",
       "      <td>MMM</td>\n",
       "      <td>1a</td>\n",
       "      <td>1</td>\n",
       "      <td>State Street</td>\n",
       "      <td>True</td>\n",
       "      <td>2018</td>\n",
       "    </tr>\n",
       "    <tr>\n",
       "      <td>VoteId0_18</td>\n",
       "      <td>Elect Director Thomas 'Tony' K. Brown</td>\n",
       "      <td>Management</td>\n",
       "      <td>For</td>\n",
       "      <td>3M COMPANY</td>\n",
       "      <td>MMM</td>\n",
       "      <td>1b</td>\n",
       "      <td>1</td>\n",
       "      <td>State Street</td>\n",
       "      <td>True</td>\n",
       "      <td>2018</td>\n",
       "    </tr>\n",
       "    <tr>\n",
       "      <td>VoteId0_18</td>\n",
       "      <td>Elect Director David B. Dillon</td>\n",
       "      <td>Management</td>\n",
       "      <td>For</td>\n",
       "      <td>3M COMPANY</td>\n",
       "      <td>MMM</td>\n",
       "      <td>1c</td>\n",
       "      <td>1</td>\n",
       "      <td>State Street</td>\n",
       "      <td>True</td>\n",
       "      <td>2018</td>\n",
       "    </tr>\n",
       "    <tr>\n",
       "      <td>VoteId0_18</td>\n",
       "      <td>Elect Director Michael L. Eskew</td>\n",
       "      <td>Management</td>\n",
       "      <td>For</td>\n",
       "      <td>3M COMPANY</td>\n",
       "      <td>MMM</td>\n",
       "      <td>1d</td>\n",
       "      <td>1</td>\n",
       "      <td>State Street</td>\n",
       "      <td>True</td>\n",
       "      <td>2018</td>\n",
       "    </tr>\n",
       "    <tr>\n",
       "      <td>VoteId0_18</td>\n",
       "      <td>Elect Director Herbert L. Henkel</td>\n",
       "      <td>Management</td>\n",
       "      <td>For</td>\n",
       "      <td>3M COMPANY</td>\n",
       "      <td>MMM</td>\n",
       "      <td>1e</td>\n",
       "      <td>1</td>\n",
       "      <td>State Street</td>\n",
       "      <td>True</td>\n",
       "      <td>2018</td>\n",
       "    </tr>\n",
       "  </tbody>\n",
       "</table>"
      ],
      "text/plain": [
       "<IPython.core.display.HTML object>"
      ]
     },
     "metadata": {},
     "output_type": "display_data"
    }
   ],
   "source": [
    "from IPython.display import display, HTML\n",
    "display(HTML(ps.head(5).to_html(index=False)))"
   ]
  },
  {
   "cell_type": "markdown",
   "metadata": {},
   "source": [
    "We get one row per proposal with some metadata added for convenience. We preserve all the data from the original N-PX documents, such as cast votes and management recommendations.\n",
    "\n",
    "Let's now look at the coverage."
   ]
  },
  {
   "cell_type": "code",
   "execution_count": 40,
   "metadata": {},
   "outputs": [
    {
     "data": {
      "text/html": [
       "<table border=\"1\" class=\"dataframe\">\n",
       "  <thead>\n",
       "    <tr style=\"text-align: right;\">\n",
       "      <th>Fund</th>\n",
       "      <th>Blackrock</th>\n",
       "      <th>State Street</th>\n",
       "      <th>Vanguard</th>\n",
       "    </tr>\n",
       "    <tr>\n",
       "      <th>ReportYear</th>\n",
       "      <th></th>\n",
       "      <th></th>\n",
       "      <th></th>\n",
       "    </tr>\n",
       "  </thead>\n",
       "  <tbody>\n",
       "    <tr>\n",
       "      <th>2012</th>\n",
       "      <td>NaN</td>\n",
       "      <td>NaN</td>\n",
       "      <td>503</td>\n",
       "    </tr>\n",
       "    <tr>\n",
       "      <th>2013</th>\n",
       "      <td>515</td>\n",
       "      <td>NaN</td>\n",
       "      <td>517</td>\n",
       "    </tr>\n",
       "    <tr>\n",
       "      <th>2014</th>\n",
       "      <td>510</td>\n",
       "      <td>NaN</td>\n",
       "      <td>510</td>\n",
       "    </tr>\n",
       "    <tr>\n",
       "      <th>2015</th>\n",
       "      <td>521</td>\n",
       "      <td>522</td>\n",
       "      <td>526</td>\n",
       "    </tr>\n",
       "    <tr>\n",
       "      <th>2016</th>\n",
       "      <td>530</td>\n",
       "      <td>528</td>\n",
       "      <td>537</td>\n",
       "    </tr>\n",
       "    <tr>\n",
       "      <th>2017</th>\n",
       "      <td>518</td>\n",
       "      <td>518</td>\n",
       "      <td>530</td>\n",
       "    </tr>\n",
       "    <tr>\n",
       "      <th>2018</th>\n",
       "      <td>510</td>\n",
       "      <td>512</td>\n",
       "      <td>516</td>\n",
       "    </tr>\n",
       "  </tbody>\n",
       "</table>"
      ],
      "text/plain": [
       "<IPython.core.display.HTML object>"
      ]
     },
     "metadata": {},
     "output_type": "display_data"
    }
   ],
   "source": [
    "pt = ps.groupby(by=['ReportYear','Fund'])['VoteId'].agg(lambda x:len(x.unique())).reset_index(name='Vote Count')\n",
    "pt = pt.pivot_table(index='ReportYear', columns='Fund', values='Vote Count')\n",
    "pt = pt.astype('Int64')\n",
    "display(HTML(pt.to_html()))"
   ]
  },
  {
   "cell_type": "markdown",
   "metadata": {},
   "source": [
    "As expected, we have almost 500 annual meetings each year (500 index members), and around 30 special meetings each year. Special meetings are organised ad-hoc for important timely matters, such as mergers, acquisitions and other irregular but important corporate business.\n",
    "\n",
    "We have different coverage for each fund - for the purpose of this analysis, we will only be looking at data starting Reporting Year 2015."
   ]
  },
  {
   "cell_type": "markdown",
   "metadata": {},
   "source": [
    "## A matter of form?\n",
    "<a id=\"section_agreement\"></a>\n",
    "[<div style=\"float: right; padding-left:10px;\">Go to stylised facts</div>](#section_facts)\n",
    "The N-PX reports helpfully include both the vote cast by the fund as well as the management voting recommendation. So let's take a look at how often our mutual funds voted in line with management's recommendation."
   ]
  },
  {
   "cell_type": "code",
   "execution_count": 41,
   "metadata": {
    "scrolled": false
   },
   "outputs": [
    {
     "data": {
      "image/png": "[encoded data removed]",
      "text/plain": [
       "<Figure size 1080x360 with 3 Axes>"
      ]
     },
     "metadata": {
      "needs_background": "light"
     },
     "output_type": "display_data"
    },
    {
     "name": "stdout",
     "output_type": "stream",
     "text": [
      "Raw data:\n"
     ]
    },
    {
     "data": {
      "text/html": [
       "<table border=\"1\" class=\"dataframe\">\n",
       "  <thead>\n",
       "    <tr>\n",
       "      <th></th>\n",
       "      <th colspan=\"3\" halign=\"left\">Count</th>\n",
       "      <th colspan=\"3\" halign=\"left\">Percentage</th>\n",
       "    </tr>\n",
       "    <tr>\n",
       "      <th>Fund</th>\n",
       "      <th>Blackrock</th>\n",
       "      <th>State Street</th>\n",
       "      <th>Vanguard</th>\n",
       "      <th>Blackrock</th>\n",
       "      <th>State Street</th>\n",
       "      <th>Vanguard</th>\n",
       "    </tr>\n",
       "    <tr>\n",
       "      <th>ReportYear</th>\n",
       "      <th></th>\n",
       "      <th></th>\n",
       "      <th></th>\n",
       "      <th></th>\n",
       "      <th></th>\n",
       "      <th></th>\n",
       "    </tr>\n",
       "  </thead>\n",
       "  <tbody>\n",
       "    <tr>\n",
       "      <th>2015</th>\n",
       "      <td>6480</td>\n",
       "      <td>6245</td>\n",
       "      <td>6522</td>\n",
       "      <td>96.9%</td>\n",
       "      <td>93.2%</td>\n",
       "      <td>97.3%</td>\n",
       "    </tr>\n",
       "    <tr>\n",
       "      <th>2016</th>\n",
       "      <td>6617</td>\n",
       "      <td>6308</td>\n",
       "      <td>6667</td>\n",
       "      <td>97.5%</td>\n",
       "      <td>93.2%</td>\n",
       "      <td>97.2%</td>\n",
       "    </tr>\n",
       "    <tr>\n",
       "      <th>2017</th>\n",
       "      <td>6623</td>\n",
       "      <td>6741</td>\n",
       "      <td>7161</td>\n",
       "      <td>91.8%</td>\n",
       "      <td>93.4%</td>\n",
       "      <td>97.9%</td>\n",
       "    </tr>\n",
       "    <tr>\n",
       "      <th>2018</th>\n",
       "      <td>6440</td>\n",
       "      <td>6331</td>\n",
       "      <td>6593</td>\n",
       "      <td>96.0%</td>\n",
       "      <td>94.0%</td>\n",
       "      <td>98.3%</td>\n",
       "    </tr>\n",
       "    <tr>\n",
       "      <th>Yearly average</th>\n",
       "      <td>6540</td>\n",
       "      <td>6406.25</td>\n",
       "      <td>6735.75</td>\n",
       "      <td>95.5%</td>\n",
       "      <td>93.4%</td>\n",
       "      <td>97.6%</td>\n",
       "    </tr>\n",
       "  </tbody>\n",
       "</table>"
      ],
      "text/plain": [
       "<IPython.core.display.HTML object>"
      ]
     },
     "metadata": {},
     "output_type": "display_data"
    }
   ],
   "source": [
    "import matplotlib.pyplot as plt\n",
    "pt = ps.copy()\n",
    "pt = pt.groupby(by=['Agree','VoteCast','ReportYear','Fund']).size().reset_index(name='Count').sort_values('Count', ascending=False)\n",
    "pt = pt.groupby(by=['Agree','ReportYear','Fund']).agg({'Count':sum}).reset_index()\n",
    "pt['Percentage'] = pt.groupby(by=['ReportYear','Fund'])['Count'].transform(lambda x:x/sum(x))\n",
    "pt = pt[pt['Agree']==True].drop('Agree', axis=1)\n",
    "pt = pt[pt['ReportYear']>=2015]\n",
    "fig, axes = plt.subplots(ncols=3, figsize=(15, 5))\n",
    "pt[pt['Fund']=='Vanguard'].plot(x='ReportYear', y=['Percentage'],\n",
    "                                ylim=(0.83,1), kind='bar',\n",
    "                                title='Vanguard 500 Index Fund',\n",
    "                                ax=axes[0])\n",
    "pt[pt['Fund']=='State Street'].plot(x='ReportYear', y=['Percentage'],\n",
    "                                ylim=(0.83,1), kind='bar',\n",
    "                                title='State Street Equity 500 Index Fund',\n",
    "                                ax=axes[1])\n",
    "pt[pt['Fund']=='Blackrock'].plot(x='ReportYear', y=['Percentage'],\n",
    "                                ylim=(0.83,1), kind='bar',\n",
    "                                title='Blackrock (iShares S&P 500)',\n",
    "                                ax=axes[2])\n",
    "fig.suptitle('Percentage of time index funds have voted FOR Management')\n",
    "for ax in axes:\n",
    "    ax.set_yticklabels(['{:,.0%}'.format(x) for x in ax.get_yticks()])\n",
    "plt.show()\n",
    "pt = pt.pivot_table(index='ReportYear', columns='Fund', values=['Count','Percentage'])\n",
    "pt['Count'] = pt['Count'].astype('Int64')\n",
    "print('Raw data:')\n",
    "s = pt.mean()\n",
    "s.name = 'Yearly average'\n",
    "display(HTML(pt.append(s).to_html(formatters= 3*['{}'.format]+3*['{:,.1%}'.format])));"
   ]
  },
  {
   "cell_type": "markdown",
   "metadata": {},
   "source": [
    "Two interesting points to note here:\n",
    "\n",
    "1. The average level of agreement is around 95%. The absolute level of agreement, of course, only tells part of the story but it does paint a picture of mutual funds who are broadly content with the status quo.\n",
    "1. There are differences in how much different passive funds agree with management - Vanguard, in particular, followed management recommendations a whopping 98.3% of the time in the year reported 2018.\n",
    "1. The agreement ratio has been trending upwards in recent years (for Vanguard and State Street), so this fund-management dynamic has been increasing in strength.\n"
   ]
  },
  {
   "cell_type": "markdown",
   "metadata": {},
   "source": [
    "## Show me the money\n",
    "One big voting topic is corporate compensation, e.g.:\n",
    "1. how much should the CEO be paid?\n",
    "1. how much of that should be cash and how much in stock?\n",
    "1. what should the compensation be dependent on? Stock price, revenue, CO2 emissions?\n",
    "\n",
    "First, how often is compensation voted on?"
   ]
  },
  {
   "cell_type": "code",
   "execution_count": 42,
   "metadata": {},
   "outputs": [],
   "source": [
    "ps['Comp related'] = ps['Proposal'].str.contains('compensation', case=False)"
   ]
  },
  {
   "cell_type": "code",
   "execution_count": 43,
   "metadata": {},
   "outputs": [
    {
     "data": {
      "text/html": [
       "<table border=\"1\" class=\"dataframe\">\n",
       "  <thead>\n",
       "    <tr style=\"text-align: right;\">\n",
       "      <th>ReportYear</th>\n",
       "      <th>Meetings w/ comp votes</th>\n",
       "      <th>Total meetings</th>\n",
       "      <th>Perc meetings w/ comp votes</th>\n",
       "    </tr>\n",
       "  </thead>\n",
       "  <tbody>\n",
       "    <tr>\n",
       "      <td>2012</td>\n",
       "      <td>460</td>\n",
       "      <td>503</td>\n",
       "      <td>91.5%</td>\n",
       "    </tr>\n",
       "    <tr>\n",
       "      <td>2013</td>\n",
       "      <td>467</td>\n",
       "      <td>517</td>\n",
       "      <td>90.3%</td>\n",
       "    </tr>\n",
       "    <tr>\n",
       "      <td>2014</td>\n",
       "      <td>486</td>\n",
       "      <td>510</td>\n",
       "      <td>95.3%</td>\n",
       "    </tr>\n",
       "    <tr>\n",
       "      <td>2015</td>\n",
       "      <td>465</td>\n",
       "      <td>526</td>\n",
       "      <td>88.4%</td>\n",
       "    </tr>\n",
       "    <tr>\n",
       "      <td>2016</td>\n",
       "      <td>465</td>\n",
       "      <td>537</td>\n",
       "      <td>86.6%</td>\n",
       "    </tr>\n",
       "    <tr>\n",
       "      <td>2017</td>\n",
       "      <td>501</td>\n",
       "      <td>530</td>\n",
       "      <td>94.5%</td>\n",
       "    </tr>\n",
       "    <tr>\n",
       "      <td>2018</td>\n",
       "      <td>477</td>\n",
       "      <td>516</td>\n",
       "      <td>92.4%</td>\n",
       "    </tr>\n",
       "  </tbody>\n",
       "</table>"
      ],
      "text/plain": [
       "<IPython.core.display.HTML object>"
      ]
     },
     "metadata": {},
     "output_type": "display_data"
    }
   ],
   "source": [
    "pt = ps[ps['Fund']=='Vanguard']\n",
    "ptcr = pt[pt['Comp related']]\n",
    "ptcr = ptcr.groupby(by=['ReportYear'])['VoteId'].agg(lambda x:len(x.unique())).reset_index(name='Meetings w/ comp votes')\n",
    "pt = pt.groupby(by=['ReportYear'])['VoteId'].agg(lambda x:len(x.unique())).reset_index(name='Total meetings')\n",
    "ptcr['Total meetings'] = pt['Total meetings']\n",
    "ptcr['Perc meetings w/ comp votes'] = ptcr['Meetings w/ comp votes']/ptcr['Total meetings']\n",
    "display(HTML(ptcr.to_html(formatters= {'Perc meetings w/ comp votes':'{:,.1%}'.format}, index=False)))"
   ]
  },
  {
   "cell_type": "markdown",
   "metadata": {},
   "source": [
    "The yearly numbers vary, but, on average, 90% of the shareholder meetings have at least 1 vote related to compensation. It's a very common voting topic.\n",
    "\n",
    "In fact, after directorship elections, compensation votes are the most common votes, as seen below:"
   ]
  },
  {
   "cell_type": "code",
   "execution_count": 44,
   "metadata": {},
   "outputs": [],
   "source": [
    "#collapse the more common proposals around electing new directors and auditors.\n",
    "ps['Proposal_generic'] = ps['Proposal'].copy()\n",
    "ps.loc[ps['Proposal_generic'].str.match('^Elect Director ', case=False), 'Proposal_generic'] = 'Elect Director <Name>'\n",
    "ps.loc[ps['Proposal_generic'].str.match('^Ratify .* as Auditors$', case=False), 'Proposal_generic'] = 'Ratify <Name> as Auditors'"
   ]
  },
  {
   "cell_type": "code",
   "execution_count": 45,
   "metadata": {},
   "outputs": [
    {
     "data": {
      "text/html": [
       "<div>\n",
       "<style scoped>\n",
       "    .dataframe tbody tr th:only-of-type {\n",
       "        vertical-align: middle;\n",
       "    }\n",
       "\n",
       "    .dataframe tbody tr th {\n",
       "        vertical-align: top;\n",
       "    }\n",
       "\n",
       "    .dataframe thead th {\n",
       "        text-align: right;\n",
       "    }\n",
       "</style>\n",
       "<table border=\"1\" class=\"dataframe\">\n",
       "  <thead>\n",
       "    <tr style=\"text-align: right;\">\n",
       "      <th></th>\n",
       "      <th>Proposal_generic</th>\n",
       "    </tr>\n",
       "  </thead>\n",
       "  <tbody>\n",
       "    <tr>\n",
       "      <th>Elect Director &lt;Name&gt;</th>\n",
       "      <td>32123</td>\n",
       "    </tr>\n",
       "    <tr>\n",
       "      <th>ADVISORY VOTE TO RATIFY NAMED EXECUTIVE OFFICERS' COMPENSATION</th>\n",
       "      <td>3320</td>\n",
       "    </tr>\n",
       "    <tr>\n",
       "      <th>Ratify &lt;Name&gt; as Auditors</th>\n",
       "      <td>1835</td>\n",
       "    </tr>\n",
       "    <tr>\n",
       "      <th>RATIFY AUDITORS</th>\n",
       "      <td>1481</td>\n",
       "    </tr>\n",
       "    <tr>\n",
       "      <th>AMEND OMNIBUS STOCK PLAN</th>\n",
       "      <td>592</td>\n",
       "    </tr>\n",
       "  </tbody>\n",
       "</table>\n",
       "</div>"
      ],
      "text/plain": [
       "                                                    Proposal_generic\n",
       "Elect Director <Name>                                          32123\n",
       "ADVISORY VOTE TO RATIFY NAMED EXECUTIVE OFFICER...              3320\n",
       "Ratify <Name> as Auditors                                       1835\n",
       "RATIFY AUDITORS                                                 1481\n",
       "AMEND OMNIBUS STOCK PLAN                                         592"
      ]
     },
     "execution_count": 45,
     "metadata": {},
     "output_type": "execute_result"
    }
   ],
   "source": [
    "ps[ps['Fund']=='Vanguard']['Proposal_generic'].value_counts().to_frame().head(5)"
   ]
  },
  {
   "cell_type": "markdown",
   "metadata": {},
   "source": [
    "<a id=\"section_compensation\"></a>\n",
    "[<div style=\"float: right; padding-left:10px;\">Go to stylised facts</div>](#section_facts)\n",
    "So given how often compensation is voted on, how often do mutual funds disagree with management on this topic?"
   ]
  },
  {
   "cell_type": "code",
   "execution_count": 46,
   "metadata": {},
   "outputs": [
    {
     "data": {
      "image/png": "[encoded data removed]",
      "text/plain": [
       "<Figure size 1080x360 with 3 Axes>"
      ]
     },
     "metadata": {
      "needs_background": "light"
     },
     "output_type": "display_data"
    },
    {
     "name": "stdout",
     "output_type": "stream",
     "text": [
      "Raw data:\n"
     ]
    },
    {
     "data": {
      "text/html": [
       "<table border=\"1\" class=\"dataframe\">\n",
       "  <thead>\n",
       "    <tr>\n",
       "      <th></th>\n",
       "      <th colspan=\"3\" halign=\"left\">Count</th>\n",
       "      <th colspan=\"3\" halign=\"left\">Percentage</th>\n",
       "    </tr>\n",
       "    <tr>\n",
       "      <th>Fund</th>\n",
       "      <th>Blackrock</th>\n",
       "      <th>State Street</th>\n",
       "      <th>Vanguard</th>\n",
       "      <th>Blackrock</th>\n",
       "      <th>State Street</th>\n",
       "      <th>Vanguard</th>\n",
       "    </tr>\n",
       "    <tr>\n",
       "      <th>ReportYear</th>\n",
       "      <th></th>\n",
       "      <th></th>\n",
       "      <th></th>\n",
       "      <th></th>\n",
       "      <th></th>\n",
       "      <th></th>\n",
       "    </tr>\n",
       "  </thead>\n",
       "  <tbody>\n",
       "    <tr>\n",
       "      <th>2015</th>\n",
       "      <td>6</td>\n",
       "      <td>23</td>\n",
       "      <td>11</td>\n",
       "      <td>1.2%</td>\n",
       "      <td>4.6%</td>\n",
       "      <td>2.2%</td>\n",
       "    </tr>\n",
       "    <tr>\n",
       "      <th>2016</th>\n",
       "      <td>9</td>\n",
       "      <td>26</td>\n",
       "      <td>11</td>\n",
       "      <td>1.8%</td>\n",
       "      <td>5.3%</td>\n",
       "      <td>2.2%</td>\n",
       "    </tr>\n",
       "    <tr>\n",
       "      <th>2017</th>\n",
       "      <td>17</td>\n",
       "      <td>32</td>\n",
       "      <td>17</td>\n",
       "      <td>3.2%</td>\n",
       "      <td>6.1%</td>\n",
       "      <td>3.2%</td>\n",
       "    </tr>\n",
       "    <tr>\n",
       "      <th>2018</th>\n",
       "      <td>20</td>\n",
       "      <td>40</td>\n",
       "      <td>16</td>\n",
       "      <td>3.9%</td>\n",
       "      <td>7.8%</td>\n",
       "      <td>3.2%</td>\n",
       "    </tr>\n",
       "    <tr>\n",
       "      <th>Yearly average</th>\n",
       "      <td>13</td>\n",
       "      <td>30.25</td>\n",
       "      <td>13.75</td>\n",
       "      <td>2.5%</td>\n",
       "      <td>5.9%</td>\n",
       "      <td>2.7%</td>\n",
       "    </tr>\n",
       "  </tbody>\n",
       "</table>"
      ],
      "text/plain": [
       "<IPython.core.display.HTML object>"
      ]
     },
     "metadata": {},
     "output_type": "display_data"
    }
   ],
   "source": [
    "pt = ps[ps['Comp related']]\n",
    "pt = pt.groupby(by=['Agree','VoteCast','ReportYear','Fund']).size().reset_index(name='Count').sort_values('Count', ascending=False)\n",
    "pt = pt.groupby(by=['Agree','ReportYear','Fund']).agg({'Count':sum}).reset_index()\n",
    "pt['Percentage'] = pt.groupby(by=['ReportYear','Fund'])['Count'].transform(lambda x:x/sum(x))\n",
    "pt = pt[pt['Agree']==False].drop('Agree', axis=1)\n",
    "pt = pt[pt['ReportYear']>=2015]\n",
    "fig, axes = plt.subplots(ncols=3, figsize=(15, 5))\n",
    "pt[pt['Fund']=='Vanguard'].plot(x='ReportYear', y=['Percentage'],\n",
    "                                ylim=(0,0.08), kind='bar',\n",
    "                                title='Vanguard 500 Index Fund',\n",
    "                                ax=axes[0],\n",
    "                                color='orange')\n",
    "pt[pt['Fund']=='State Street'].plot(x='ReportYear', y=['Percentage'],\n",
    "                                ylim=(0,0.08), kind='bar',\n",
    "                                title='State Street Equity 500 Index Fund',\n",
    "                                ax=axes[1],\n",
    "                                color='orange')\n",
    "pt[pt['Fund']=='Blackrock'].plot(x='ReportYear', y=['Percentage'],\n",
    "                                ylim=(0,0.08), kind='bar',\n",
    "                                title='Blackrock (iShares S&P 500)',\n",
    "                                ax=axes[2],\n",
    "                                color='orange')\n",
    "fig.suptitle('Percentage of time index funds have voted AGAINST Management;\\ncompensation-related votes only',\n",
    "            y=1.05)\n",
    "for ax in axes:\n",
    "    ax.set_yticklabels(['{:,.0%}'.format(x) for x in ax.get_yticks()])\n",
    "plt.show()\n",
    "pt = pt.pivot_table(index='ReportYear', columns='Fund', values=['Count','Percentage'])\n",
    "pt['Count'] = pt['Count'].astype('Int64')\n",
    "print('Raw data:')\n",
    "s = pt.mean()\n",
    "s.name = 'Yearly average'\n",
    "display(HTML(pt.append(s).to_html(formatters= 3*['{}'.format]+3*['{:,.1%}'.format])));"
   ]
  },
  {
   "cell_type": "markdown",
   "metadata": {},
   "source": [
    "Two points worth mentioning:\n",
    "1. The average disagreement on compensation sits around 5%. Blackrock and Vanguard in particular, only disagree on ~2.6% of the votes. As before, the implication is that the funds are happy with corporate compensation at US companies.\n",
    "1. Fortunately, the trend has been moving towards more pushback on corporate compensation. This makes sense, in the context of current dissatisfaction with high income inequality, large corporate compensation and perceived disconnect between compensation and company performance."
   ]
  },
  {
   "cell_type": "markdown",
   "metadata": {},
   "source": [
    "## Conclusion\n",
    "\n",
    "The data paints a picture of a world where:\n",
    "1. Large passive mutual funds overwhelmingly vote the same way that management recommends\n",
    "1. Corporate management holds disproportionately large votes on issues such as compensation\n",
    "1. There is little pushback from passive asset managers when it comes to corporate compensation."
   ]
  },
  {
   "cell_type": "raw",
   "metadata": {},
   "source": [
    "<script src=\"https://cdnjs.cloudflare.com/ajax/libs/jquery/2.0.3/jquery.min.js\"></script>"
   ]
  },
  {
   "cell_type": "raw",
   "metadata": {},
   "source": [
    "<script>\n",
    "  function code_toggle() {\n",
    "    if (code_shown){\n",
    "      $('div.input').parent().not($('div.output_wrapper').parent()).hide('500');\n",
    "      $('div.input').hide('500');\n",
    "      $('#toggleButton').val('Show Code');\n",
    "    } else {\n",
    "      $('div.input').parent().not($('div.output_wrapper').parent()).show('500');\n",
    "      $('div.input').show('500');\n",
    "      $('#toggleButton').val('Hide Code');\n",
    "    }\n",
    "    code_shown = !code_shown\n",
    "  }\n",
    "\n",
    "  $( document ).ready(function(){\n",
    "    code_shown=false;\n",
    "    $('div.input').parent().not($('div.output_wrapper').parent()).hide();\n",
    "    $('div.input').hide();\n",
    "  });\n",
    "</script>"
   ]
  },
  {
   "cell_type": "raw",
   "metadata": {},
   "source": [
    "<script>\n",
    "  $(document).ready(function(){\n",
    "    $('div.prompt').hide();\n",
    "    $('div.back-to-top').hide();\n",
    "    $('nav#menubar').hide();\n",
    "    $('.breadcrumb').hide();\n",
    "    $('.hidden-print').hide();\n",
    "  });\n",
    "</script>"
   ]
  },
  {
   "cell_type": "raw",
   "metadata": {},
   "source": [
    "<!--centre images on page-->\n",
    "<script>\n",
    "  $(document).ready(function(){\n",
    "    $(\".output_subarea > img\").each(function(i, img) {\n",
    "        $(img).css({\n",
    "            position: \"relative\",\n",
    "            left: ($(img).parent().width() - $(img).width()) / 2\n",
    "        });\n",
    "    });\n",
    "  });  \n",
    "</script>"
   ]
  }
 ],
 "metadata": {
  "kernelspec": {
   "display_name": "Python 3",
   "language": "python",
   "name": "python3"
  },
  "language_info": {
   "codemirror_mode": {
    "name": "ipython",
    "version": 3
   },
   "file_extension": ".py",
   "mimetype": "text/x-python",
   "name": "python",
   "nbconvert_exporter": "python",
   "pygments_lexer": "ipython3",
   "version": "3.5.2"
  }
 },
 "nbformat": 4,
 "nbformat_minor": 2
}
